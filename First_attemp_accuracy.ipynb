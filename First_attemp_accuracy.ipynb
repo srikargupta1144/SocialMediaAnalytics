{
 "cells": [
  {
   "cell_type": "code",
   "execution_count": 34,
   "id": "c5294829",
   "metadata": {},
   "outputs": [],
   "source": [
    "import tensorflow as tf\n",
    "from tensorflow.keras import datasets,layers,models\n",
    "import matplotlib.pyplot as plt\n",
    "import numpy as np\n",
    "from keras.models import Sequential\n",
    "from keras.optimizers import Adam\n",
    "from keras.callbacks import ModelCheckpoint\n",
    "from keras.models import load_model\n",
    "from keras.layers import Lambda,Conv2D,MaxPooling2D,Dropout,Dense,Flatten,Activation\n",
    "from keras.utils import plot_model\n"
   ]
  },
  {
   "cell_type": "code",
   "execution_count": 3,
   "id": "87c1f163",
   "metadata": {},
   "outputs": [
    {
     "name": "stdout",
     "output_type": "stream",
     "text": [
      "Downloading data from https://www.cs.toronto.edu/~kriz/cifar-10-python.tar.gz\n",
      "170498071/170498071 [==============================] - 502s 3us/step\n"
     ]
    }
   ],
   "source": [
    "import tensorflow as tf\n",
    "\n",
    "# Load the CIFAR-10 dataset\n",
    "(X_train, y_train), (X_test, y_test) = tf.keras.datasets.cifar10.load_data()"
   ]
  },
  {
   "cell_type": "code",
   "execution_count": 4,
   "id": "53121d5d",
   "metadata": {},
   "outputs": [],
   "source": [
    "classes = [\"airplane\",\"automobile\",\"bird\",\"car\",\"deer\",\"dog\",\"frog\",\"horse\",\"ship\",\"truck\"]"
   ]
  },
  {
   "cell_type": "code",
   "execution_count": 5,
   "id": "c423593c",
   "metadata": {},
   "outputs": [
    {
     "data": {
      "text/plain": [
       "10"
      ]
     },
     "execution_count": 5,
     "metadata": {},
     "output_type": "execute_result"
    }
   ],
   "source": [
    "num_classes = len(classes)\n",
    "num_classes"
   ]
  },
  {
   "cell_type": "code",
   "execution_count": 6,
   "id": "42eb548b",
   "metadata": {},
   "outputs": [],
   "source": [
    "from tensorflow.keras.utils import to_categorical\n",
    "# One-hot encode the labels\n",
    "y_train_one_hot = to_categorical(y_train, num_classes)\n",
    "y_test_one_hot = to_categorical(y_test, num_classes)"
   ]
  },
  {
   "cell_type": "code",
   "execution_count": 7,
   "id": "7c7fc011",
   "metadata": {},
   "outputs": [
    {
     "data": {
      "text/plain": [
       "array([[0., 0., 0., ..., 0., 0., 0.],\n",
       "       [0., 0., 0., ..., 0., 0., 1.],\n",
       "       [0., 0., 0., ..., 0., 0., 1.],\n",
       "       ...,\n",
       "       [0., 0., 0., ..., 0., 0., 1.],\n",
       "       [0., 1., 0., ..., 0., 0., 0.],\n",
       "       [0., 1., 0., ..., 0., 0., 0.]], dtype=float32)"
      ]
     },
     "execution_count": 7,
     "metadata": {},
     "output_type": "execute_result"
    }
   ],
   "source": [
    "y_train_one_hot"
   ]
  },
  {
   "cell_type": "code",
   "execution_count": 8,
   "id": "96031e71",
   "metadata": {},
   "outputs": [
    {
     "data": {
      "text/plain": [
       "(50000, 32, 32, 3)"
      ]
     },
     "execution_count": 8,
     "metadata": {},
     "output_type": "execute_result"
    }
   ],
   "source": [
    "X_train.shape"
   ]
  },
  {
   "cell_type": "code",
   "execution_count": 9,
   "id": "dbcf0381",
   "metadata": {},
   "outputs": [
    {
     "data": {
      "text/plain": [
       "(10000, 32, 32, 3)"
      ]
     },
     "execution_count": 9,
     "metadata": {},
     "output_type": "execute_result"
    }
   ],
   "source": [
    "X_test.shape"
   ]
  },
  {
   "cell_type": "code",
   "execution_count": 10,
   "id": "1fc98347",
   "metadata": {},
   "outputs": [],
   "source": [
    "def plot_sample(X,y, index):\n",
    "    plt.figure(figsize = (15,2))\n",
    "    plt.imshow(X[index])\n",
    "    plt.xlabel(classes[y[index]])"
   ]
  },
  {
   "cell_type": "code",
   "execution_count": 11,
   "id": "e05f6fff",
   "metadata": {},
   "outputs": [],
   "source": [
    "IMAGE_SIZE = 32\n",
    "CHANNELS = 3"
   ]
  },
  {
   "cell_type": "code",
   "execution_count": 57,
   "id": "5caf840a",
   "metadata": {},
   "outputs": [
    {
     "data": {
      "text/plain": [
       "array([[6],\n",
       "       [9],\n",
       "       [9],\n",
       "       ...,\n",
       "       [9],\n",
       "       [1],\n",
       "       [1]], dtype=uint8)"
      ]
     },
     "execution_count": 57,
     "metadata": {},
     "output_type": "execute_result"
    }
   ],
   "source": [
    "y_train"
   ]
  },
  {
   "cell_type": "code",
   "execution_count": 70,
   "id": "95ee4ae6",
   "metadata": {},
   "outputs": [
    {
     "name": "stdout",
     "output_type": "stream",
     "text": [
      "[[3]\n",
      " [8]\n",
      " [8]\n",
      " ...\n",
      " [5]\n",
      " [1]\n",
      " [7]]\n"
     ]
    }
   ],
   "source": [
    "print(y_test)"
   ]
  },
  {
   "cell_type": "code",
   "execution_count": 12,
   "id": "9ad0949f",
   "metadata": {},
   "outputs": [],
   "source": [
    "X_train = X_train / 255\n",
    "X_test = X_test / 255"
   ]
  },
  {
   "cell_type": "code",
   "execution_count": 13,
   "id": "4f4b8ef0",
   "metadata": {},
   "outputs": [],
   "source": [
    "def cnn_model():\n",
    "    model = Sequential()\n",
    "    model.add(Conv2D(32,(3,3),activation='relu',padding = 'same',input_shape = (IMAGE_SIZE,IMAGE_SIZE,CHANNELS)))\n",
    "    model.add(Conv2D(32,(3,3),activation='relu'))\n",
    "    model.add(MaxPooling2D(pool_size=(2,2)))\n",
    "    model.add(Dropout(0.25))\n",
    "\n",
    "    model.add(Conv2D(64,(3,3),activation='relu',padding = 'same',input_shape = (IMAGE_SIZE,IMAGE_SIZE,CHANNELS)))\n",
    "    model.add(Conv2D(64,(3,3),activation='relu'))\n",
    "    model.add(MaxPooling2D(pool_size=(2,2)))\n",
    "    model.add(Dropout(0.25))\n",
    "\n",
    "    model.add(Flatten())\n",
    "\n",
    "    model.add(Dense(512,activation = 'relu'))\n",
    "    model.add(Dropout(0.5))\n",
    "\n",
    "    model.add(Dense(num_classes,activation = 'softmax'))\n",
    "    model.summary()\n",
    "\n",
    "    return model\n"
   ]
  },
  {
   "cell_type": "code",
   "execution_count": 14,
   "id": "0257b0c7",
   "metadata": {},
   "outputs": [
    {
     "name": "stdout",
     "output_type": "stream",
     "text": [
      "Model: \"sequential\"\n",
      "_________________________________________________________________\n",
      " Layer (type)                Output Shape              Param #   \n",
      "=================================================================\n",
      " conv2d (Conv2D)             (None, 32, 32, 32)        896       \n",
      "                                                                 \n",
      " conv2d_1 (Conv2D)           (None, 30, 30, 32)        9248      \n",
      "                                                                 \n",
      " max_pooling2d (MaxPooling2  (None, 15, 15, 32)        0         \n",
      " D)                                                              \n",
      "                                                                 \n",
      " dropout (Dropout)           (None, 15, 15, 32)        0         \n",
      "                                                                 \n",
      " conv2d_2 (Conv2D)           (None, 15, 15, 64)        18496     \n",
      "                                                                 \n",
      " conv2d_3 (Conv2D)           (None, 13, 13, 64)        36928     \n",
      "                                                                 \n",
      " max_pooling2d_1 (MaxPoolin  (None, 6, 6, 64)          0         \n",
      " g2D)                                                            \n",
      "                                                                 \n",
      " dropout_1 (Dropout)         (None, 6, 6, 64)          0         \n",
      "                                                                 \n",
      " flatten (Flatten)           (None, 2304)              0         \n",
      "                                                                 \n",
      " dense (Dense)               (None, 512)               1180160   \n",
      "                                                                 \n",
      " dropout_2 (Dropout)         (None, 512)               0         \n",
      "                                                                 \n",
      " dense_1 (Dense)             (None, 10)                5130      \n",
      "                                                                 \n",
      "=================================================================\n",
      "Total params: 1250858 (4.77 MB)\n",
      "Trainable params: 1250858 (4.77 MB)\n",
      "Non-trainable params: 0 (0.00 Byte)\n",
      "_________________________________________________________________\n"
     ]
    }
   ],
   "source": [
    "model = cnn_model()"
   ]
  },
  {
   "cell_type": "code",
   "execution_count": 15,
   "id": "3246139d",
   "metadata": {},
   "outputs": [],
   "source": [
    "checkpoint = ModelCheckpoint('best_model_simple.h5',\n",
    "monitor = 'val_loss',\n",
    "  verbose = 0,\n",
    "                   save_best_only = True,\n",
    "                   mode = 'auto')"
   ]
  },
  {
   "cell_type": "code",
   "execution_count": 16,
   "id": "4fe5598f",
   "metadata": {},
   "outputs": [],
   "source": [
    "model.compile(loss = 'categorical_crossentropy',\n",
    "              optimizer = Adam(learning_rate=1.0e-4),\n",
    "              metrics = ['accuracy'])"
   ]
  },
  {
   "cell_type": "code",
   "execution_count": 17,
   "id": "7790a295",
   "metadata": {},
   "outputs": [
    {
     "name": "stdout",
     "output_type": "stream",
     "text": [
      "Epoch 1/100\n",
      "391/391 [==============================] - 77s 192ms/step - loss: 1.9206 - accuracy: 0.2943 - val_loss: 1.5937 - val_accuracy: 0.4296\n",
      "Epoch 2/100\n"
     ]
    },
    {
     "name": "stderr",
     "output_type": "stream",
     "text": [
      "C:\\Users\\DELL\\anaconda3\\envs\\yolov8\\Lib\\site-packages\\keras\\src\\engine\\training.py:3000: UserWarning: You are saving your model as an HDF5 file via `model.save()`. This file format is considered legacy. We recommend using instead the native Keras format, e.g. `model.save('my_model.keras')`.\n",
      "  saving_api.save_model(\n"
     ]
    },
    {
     "name": "stdout",
     "output_type": "stream",
     "text": [
      "391/391 [==============================] - 76s 194ms/step - loss: 1.5685 - accuracy: 0.4288 - val_loss: 1.4411 - val_accuracy: 0.4858\n",
      "Epoch 3/100\n",
      "391/391 [==============================] - 76s 194ms/step - loss: 1.4461 - accuracy: 0.4792 - val_loss: 1.3502 - val_accuracy: 0.5216\n",
      "Epoch 4/100\n",
      "391/391 [==============================] - 76s 195ms/step - loss: 1.3677 - accuracy: 0.5085 - val_loss: 1.2835 - val_accuracy: 0.5420\n",
      "Epoch 5/100\n",
      "391/391 [==============================] - 76s 194ms/step - loss: 1.3094 - accuracy: 0.5320 - val_loss: 1.2093 - val_accuracy: 0.5708\n",
      "Epoch 6/100\n",
      "391/391 [==============================] - 76s 195ms/step - loss: 1.2609 - accuracy: 0.5522 - val_loss: 1.1713 - val_accuracy: 0.5811\n",
      "Epoch 7/100\n",
      "391/391 [==============================] - 76s 194ms/step - loss: 1.2061 - accuracy: 0.5732 - val_loss: 1.1211 - val_accuracy: 0.6070\n",
      "Epoch 8/100\n",
      "391/391 [==============================] - 76s 195ms/step - loss: 1.1637 - accuracy: 0.5870 - val_loss: 1.1005 - val_accuracy: 0.6143\n",
      "Epoch 9/100\n",
      "391/391 [==============================] - 76s 194ms/step - loss: 1.1198 - accuracy: 0.6063 - val_loss: 1.0379 - val_accuracy: 0.6374\n",
      "Epoch 10/100\n",
      "391/391 [==============================] - 76s 194ms/step - loss: 1.0843 - accuracy: 0.6172 - val_loss: 1.0262 - val_accuracy: 0.6437\n",
      "Epoch 11/100\n",
      "391/391 [==============================] - 76s 195ms/step - loss: 1.0530 - accuracy: 0.6304 - val_loss: 0.9809 - val_accuracy: 0.6569\n",
      "Epoch 12/100\n",
      "391/391 [==============================] - 77s 196ms/step - loss: 1.0238 - accuracy: 0.6430 - val_loss: 0.9543 - val_accuracy: 0.6657\n",
      "Epoch 13/100\n",
      "391/391 [==============================] - 76s 195ms/step - loss: 0.9971 - accuracy: 0.6536 - val_loss: 0.9308 - val_accuracy: 0.6733\n",
      "Epoch 14/100\n",
      "391/391 [==============================] - 76s 194ms/step - loss: 0.9682 - accuracy: 0.6584 - val_loss: 0.9079 - val_accuracy: 0.6828\n",
      "Epoch 15/100\n",
      "391/391 [==============================] - 76s 195ms/step - loss: 0.9425 - accuracy: 0.6694 - val_loss: 0.8895 - val_accuracy: 0.6878\n",
      "Epoch 16/100\n",
      "391/391 [==============================] - 76s 195ms/step - loss: 0.9255 - accuracy: 0.6773 - val_loss: 0.8749 - val_accuracy: 0.6935\n",
      "Epoch 17/100\n",
      "391/391 [==============================] - 76s 195ms/step - loss: 0.9044 - accuracy: 0.6834 - val_loss: 0.8592 - val_accuracy: 0.6990\n",
      "Epoch 18/100\n",
      "391/391 [==============================] - 77s 196ms/step - loss: 0.8823 - accuracy: 0.6934 - val_loss: 0.8418 - val_accuracy: 0.7082\n",
      "Epoch 19/100\n",
      "391/391 [==============================] - 76s 194ms/step - loss: 0.8639 - accuracy: 0.6980 - val_loss: 0.8270 - val_accuracy: 0.7123\n",
      "Epoch 20/100\n",
      "391/391 [==============================] - 77s 196ms/step - loss: 0.8455 - accuracy: 0.7058 - val_loss: 0.8297 - val_accuracy: 0.7111\n",
      "Epoch 21/100\n",
      "391/391 [==============================] - 76s 195ms/step - loss: 0.8308 - accuracy: 0.7094 - val_loss: 0.8009 - val_accuracy: 0.7203\n",
      "Epoch 22/100\n",
      "391/391 [==============================] - 76s 195ms/step - loss: 0.8131 - accuracy: 0.7157 - val_loss: 0.7905 - val_accuracy: 0.7258\n",
      "Epoch 23/100\n",
      "391/391 [==============================] - 80s 204ms/step - loss: 0.7918 - accuracy: 0.7240 - val_loss: 0.7861 - val_accuracy: 0.7272\n",
      "Epoch 24/100\n",
      "391/391 [==============================] - 81s 208ms/step - loss: 0.7819 - accuracy: 0.7281 - val_loss: 0.7692 - val_accuracy: 0.7333\n",
      "Epoch 25/100\n",
      "391/391 [==============================] - 76s 193ms/step - loss: 0.7632 - accuracy: 0.7349 - val_loss: 0.7578 - val_accuracy: 0.7360\n",
      "Epoch 26/100\n",
      "391/391 [==============================] - 77s 197ms/step - loss: 0.7493 - accuracy: 0.7366 - val_loss: 0.7541 - val_accuracy: 0.7377\n",
      "Epoch 27/100\n",
      "391/391 [==============================] - 76s 195ms/step - loss: 0.7383 - accuracy: 0.7421 - val_loss: 0.7396 - val_accuracy: 0.7430\n",
      "Epoch 28/100\n",
      "391/391 [==============================] - 77s 197ms/step - loss: 0.7229 - accuracy: 0.7481 - val_loss: 0.7305 - val_accuracy: 0.7487\n",
      "Epoch 29/100\n",
      "391/391 [==============================] - 76s 195ms/step - loss: 0.7121 - accuracy: 0.7513 - val_loss: 0.7251 - val_accuracy: 0.7490\n",
      "Epoch 30/100\n",
      "391/391 [==============================] - 76s 195ms/step - loss: 0.6987 - accuracy: 0.7573 - val_loss: 0.7200 - val_accuracy: 0.7508\n",
      "Epoch 31/100\n",
      "391/391 [==============================] - 76s 195ms/step - loss: 0.6867 - accuracy: 0.7605 - val_loss: 0.7113 - val_accuracy: 0.7524\n",
      "Epoch 32/100\n",
      "391/391 [==============================] - 76s 195ms/step - loss: 0.6752 - accuracy: 0.7648 - val_loss: 0.7126 - val_accuracy: 0.7527\n",
      "Epoch 33/100\n",
      "391/391 [==============================] - 77s 196ms/step - loss: 0.6625 - accuracy: 0.7666 - val_loss: 0.7011 - val_accuracy: 0.7556\n",
      "Epoch 34/100\n",
      "391/391 [==============================] - 76s 195ms/step - loss: 0.6573 - accuracy: 0.7706 - val_loss: 0.6941 - val_accuracy: 0.7564\n",
      "Epoch 35/100\n",
      "391/391 [==============================] - 76s 195ms/step - loss: 0.6417 - accuracy: 0.7754 - val_loss: 0.6933 - val_accuracy: 0.7587\n",
      "Epoch 36/100\n",
      "391/391 [==============================] - 77s 197ms/step - loss: 0.6332 - accuracy: 0.7783 - val_loss: 0.6821 - val_accuracy: 0.7632\n",
      "Epoch 37/100\n",
      "391/391 [==============================] - 77s 196ms/step - loss: 0.6194 - accuracy: 0.7846 - val_loss: 0.6827 - val_accuracy: 0.7623\n",
      "Epoch 38/100\n",
      "391/391 [==============================] - 77s 197ms/step - loss: 0.6113 - accuracy: 0.7848 - val_loss: 0.6735 - val_accuracy: 0.7684\n",
      "Epoch 39/100\n",
      "391/391 [==============================] - 78s 200ms/step - loss: 0.6066 - accuracy: 0.7874 - val_loss: 0.6727 - val_accuracy: 0.7641\n",
      "Epoch 40/100\n",
      "391/391 [==============================] - 75s 192ms/step - loss: 0.5903 - accuracy: 0.7925 - val_loss: 0.6703 - val_accuracy: 0.7666\n",
      "Epoch 41/100\n",
      "391/391 [==============================] - 76s 195ms/step - loss: 0.5842 - accuracy: 0.7934 - val_loss: 0.6716 - val_accuracy: 0.7683\n",
      "Epoch 42/100\n",
      "391/391 [==============================] - 76s 195ms/step - loss: 0.5746 - accuracy: 0.7974 - val_loss: 0.6722 - val_accuracy: 0.7685\n",
      "Epoch 43/100\n",
      "391/391 [==============================] - 77s 196ms/step - loss: 0.5635 - accuracy: 0.8012 - val_loss: 0.6574 - val_accuracy: 0.7713\n",
      "Epoch 44/100\n",
      "391/391 [==============================] - 76s 196ms/step - loss: 0.5571 - accuracy: 0.8051 - val_loss: 0.6610 - val_accuracy: 0.7700\n",
      "Epoch 45/100\n",
      "391/391 [==============================] - 77s 197ms/step - loss: 0.5449 - accuracy: 0.8068 - val_loss: 0.6577 - val_accuracy: 0.7721\n",
      "Epoch 46/100\n",
      "391/391 [==============================] - 77s 197ms/step - loss: 0.5376 - accuracy: 0.8117 - val_loss: 0.6577 - val_accuracy: 0.7732\n",
      "Epoch 47/100\n",
      "391/391 [==============================] - 77s 198ms/step - loss: 0.5344 - accuracy: 0.8113 - val_loss: 0.6525 - val_accuracy: 0.7758\n",
      "Epoch 48/100\n",
      "391/391 [==============================] - 77s 197ms/step - loss: 0.5189 - accuracy: 0.8172 - val_loss: 0.6475 - val_accuracy: 0.7786\n",
      "Epoch 49/100\n",
      "391/391 [==============================] - 76s 195ms/step - loss: 0.5126 - accuracy: 0.8187 - val_loss: 0.6452 - val_accuracy: 0.7785\n",
      "Epoch 50/100\n",
      "391/391 [==============================] - 77s 197ms/step - loss: 0.5092 - accuracy: 0.8223 - val_loss: 0.6483 - val_accuracy: 0.7749\n",
      "Epoch 51/100\n",
      "391/391 [==============================] - 76s 195ms/step - loss: 0.4992 - accuracy: 0.8245 - val_loss: 0.6508 - val_accuracy: 0.7799\n",
      "Epoch 52/100\n",
      "391/391 [==============================] - 78s 199ms/step - loss: 0.4929 - accuracy: 0.8270 - val_loss: 0.6345 - val_accuracy: 0.7839\n",
      "Epoch 53/100\n",
      "391/391 [==============================] - 79s 203ms/step - loss: 0.4796 - accuracy: 0.8307 - val_loss: 0.6373 - val_accuracy: 0.7794\n",
      "Epoch 54/100\n",
      "391/391 [==============================] - 75s 193ms/step - loss: 0.4744 - accuracy: 0.8328 - val_loss: 0.6381 - val_accuracy: 0.7832\n",
      "Epoch 55/100\n",
      "391/391 [==============================] - 76s 194ms/step - loss: 0.4714 - accuracy: 0.8342 - val_loss: 0.6395 - val_accuracy: 0.7826\n",
      "Epoch 56/100\n",
      "391/391 [==============================] - 76s 195ms/step - loss: 0.4581 - accuracy: 0.8374 - val_loss: 0.6426 - val_accuracy: 0.7823\n",
      "Epoch 57/100\n",
      "391/391 [==============================] - 76s 195ms/step - loss: 0.4529 - accuracy: 0.8401 - val_loss: 0.6295 - val_accuracy: 0.7849\n",
      "Epoch 58/100\n",
      "391/391 [==============================] - 75s 193ms/step - loss: 0.4487 - accuracy: 0.8415 - val_loss: 0.6337 - val_accuracy: 0.7846\n",
      "Epoch 59/100\n",
      "391/391 [==============================] - 76s 193ms/step - loss: 0.4421 - accuracy: 0.8437 - val_loss: 0.6410 - val_accuracy: 0.7850\n",
      "Epoch 60/100\n",
      "391/391 [==============================] - 76s 193ms/step - loss: 0.4284 - accuracy: 0.8470 - val_loss: 0.6383 - val_accuracy: 0.7847\n",
      "Epoch 61/100\n",
      "391/391 [==============================] - 76s 193ms/step - loss: 0.4265 - accuracy: 0.8479 - val_loss: 0.6311 - val_accuracy: 0.7865\n",
      "Epoch 62/100\n",
      "391/391 [==============================] - 76s 193ms/step - loss: 0.4258 - accuracy: 0.8501 - val_loss: 0.6412 - val_accuracy: 0.7839\n",
      "Epoch 63/100\n",
      "391/391 [==============================] - 76s 194ms/step - loss: 0.4112 - accuracy: 0.8559 - val_loss: 0.6327 - val_accuracy: 0.7860\n",
      "Epoch 64/100\n",
      "391/391 [==============================] - 75s 193ms/step - loss: 0.4123 - accuracy: 0.8536 - val_loss: 0.6379 - val_accuracy: 0.7848\n",
      "Epoch 65/100\n",
      "391/391 [==============================] - 75s 193ms/step - loss: 0.4067 - accuracy: 0.8537 - val_loss: 0.6368 - val_accuracy: 0.7822\n",
      "Epoch 66/100\n",
      "391/391 [==============================] - 76s 193ms/step - loss: 0.3938 - accuracy: 0.8604 - val_loss: 0.6410 - val_accuracy: 0.7830\n",
      "Epoch 67/100\n",
      "391/391 [==============================] - 75s 192ms/step - loss: 0.3858 - accuracy: 0.8628 - val_loss: 0.6395 - val_accuracy: 0.7864\n",
      "Epoch 68/100\n",
      "391/391 [==============================] - 75s 193ms/step - loss: 0.3820 - accuracy: 0.8637 - val_loss: 0.6369 - val_accuracy: 0.7876\n",
      "Epoch 69/100\n",
      "391/391 [==============================] - 75s 192ms/step - loss: 0.3862 - accuracy: 0.8626 - val_loss: 0.6352 - val_accuracy: 0.7871\n",
      "Epoch 70/100\n",
      "391/391 [==============================] - 75s 192ms/step - loss: 0.3723 - accuracy: 0.8674 - val_loss: 0.6373 - val_accuracy: 0.7909\n",
      "Epoch 71/100\n",
      "391/391 [==============================] - 76s 195ms/step - loss: 0.3651 - accuracy: 0.8713 - val_loss: 0.6385 - val_accuracy: 0.7871\n",
      "Epoch 72/100\n",
      "391/391 [==============================] - 75s 193ms/step - loss: 0.3646 - accuracy: 0.8706 - val_loss: 0.6396 - val_accuracy: 0.7883\n",
      "Epoch 73/100\n",
      "391/391 [==============================] - 75s 192ms/step - loss: 0.3629 - accuracy: 0.8715 - val_loss: 0.6465 - val_accuracy: 0.7887\n",
      "Epoch 74/100\n",
      "391/391 [==============================] - 76s 194ms/step - loss: 0.3574 - accuracy: 0.8728 - val_loss: 0.6415 - val_accuracy: 0.7896\n",
      "Epoch 75/100\n",
      "391/391 [==============================] - 75s 193ms/step - loss: 0.3515 - accuracy: 0.8750 - val_loss: 0.6416 - val_accuracy: 0.7912\n",
      "Epoch 76/100\n",
      "391/391 [==============================] - 75s 193ms/step - loss: 0.3435 - accuracy: 0.8775 - val_loss: 0.6520 - val_accuracy: 0.7872\n",
      "Epoch 77/100\n",
      "391/391 [==============================] - 75s 193ms/step - loss: 0.3419 - accuracy: 0.8779 - val_loss: 0.6417 - val_accuracy: 0.7890\n",
      "Epoch 78/100\n",
      "391/391 [==============================] - 75s 193ms/step - loss: 0.3382 - accuracy: 0.8773 - val_loss: 0.6435 - val_accuracy: 0.7920\n",
      "Epoch 79/100\n",
      "391/391 [==============================] - 76s 194ms/step - loss: 0.3292 - accuracy: 0.8832 - val_loss: 0.6642 - val_accuracy: 0.7855\n",
      "Epoch 80/100\n",
      "391/391 [==============================] - 75s 192ms/step - loss: 0.3241 - accuracy: 0.8841 - val_loss: 0.6517 - val_accuracy: 0.7895\n",
      "Epoch 81/100\n",
      "391/391 [==============================] - 75s 193ms/step - loss: 0.3226 - accuracy: 0.8860 - val_loss: 0.6473 - val_accuracy: 0.7884\n",
      "Epoch 82/100\n",
      "391/391 [==============================] - 75s 193ms/step - loss: 0.3205 - accuracy: 0.8856 - val_loss: 0.6407 - val_accuracy: 0.7931\n",
      "Epoch 83/100\n",
      "391/391 [==============================] - 75s 193ms/step - loss: 0.3155 - accuracy: 0.8901 - val_loss: 0.6525 - val_accuracy: 0.7895\n",
      "Epoch 84/100\n",
      "391/391 [==============================] - 76s 194ms/step - loss: 0.3105 - accuracy: 0.8888 - val_loss: 0.6547 - val_accuracy: 0.7919\n",
      "Epoch 85/100\n",
      "391/391 [==============================] - 76s 194ms/step - loss: 0.3055 - accuracy: 0.8896 - val_loss: 0.6668 - val_accuracy: 0.7868\n",
      "Epoch 86/100\n",
      "391/391 [==============================] - 75s 192ms/step - loss: 0.2981 - accuracy: 0.8943 - val_loss: 0.6475 - val_accuracy: 0.7925\n",
      "Epoch 87/100\n",
      "391/391 [==============================] - 76s 194ms/step - loss: 0.2983 - accuracy: 0.8925 - val_loss: 0.6507 - val_accuracy: 0.7914\n",
      "Epoch 88/100\n",
      "391/391 [==============================] - 76s 193ms/step - loss: 0.2940 - accuracy: 0.8941 - val_loss: 0.6633 - val_accuracy: 0.7907\n",
      "Epoch 89/100\n",
      "391/391 [==============================] - 75s 193ms/step - loss: 0.2857 - accuracy: 0.8974 - val_loss: 0.6572 - val_accuracy: 0.7913\n",
      "Epoch 90/100\n",
      "391/391 [==============================] - 76s 194ms/step - loss: 0.2901 - accuracy: 0.8960 - val_loss: 0.6705 - val_accuracy: 0.7882\n",
      "Epoch 91/100\n",
      "391/391 [==============================] - 75s 193ms/step - loss: 0.2868 - accuracy: 0.8972 - val_loss: 0.6630 - val_accuracy: 0.7932\n",
      "Epoch 92/100\n",
      "391/391 [==============================] - 76s 193ms/step - loss: 0.2789 - accuracy: 0.8999 - val_loss: 0.6579 - val_accuracy: 0.7918\n",
      "Epoch 93/100\n",
      "391/391 [==============================] - 76s 194ms/step - loss: 0.2734 - accuracy: 0.9018 - val_loss: 0.6572 - val_accuracy: 0.7897\n",
      "Epoch 94/100\n",
      "391/391 [==============================] - 76s 194ms/step - loss: 0.2740 - accuracy: 0.9016 - val_loss: 0.6616 - val_accuracy: 0.7943\n",
      "Epoch 95/100\n",
      "391/391 [==============================] - 78s 199ms/step - loss: 0.2730 - accuracy: 0.9022 - val_loss: 0.6583 - val_accuracy: 0.7919\n",
      "Epoch 96/100\n",
      "391/391 [==============================] - 76s 195ms/step - loss: 0.2678 - accuracy: 0.9041 - val_loss: 0.6647 - val_accuracy: 0.7889\n",
      "Epoch 97/100\n",
      "391/391 [==============================] - 76s 194ms/step - loss: 0.2634 - accuracy: 0.9039 - val_loss: 0.6679 - val_accuracy: 0.7896\n",
      "Epoch 98/100\n",
      "391/391 [==============================] - 76s 195ms/step - loss: 0.2585 - accuracy: 0.9094 - val_loss: 0.6650 - val_accuracy: 0.7909\n",
      "Epoch 99/100\n",
      "391/391 [==============================] - 76s 193ms/step - loss: 0.2566 - accuracy: 0.9068 - val_loss: 0.6711 - val_accuracy: 0.7916\n",
      "Epoch 100/100\n",
      "391/391 [==============================] - 76s 193ms/step - loss: 0.2556 - accuracy: 0.9093 - val_loss: 0.6721 - val_accuracy: 0.7904\n"
     ]
    }
   ],
   "source": [
    "model_details = model.fit(X_train,y_train_one_hot,batch_size = 128,epochs=100,validation_data = (X_test,y_test_one_hot),callbacks = [checkpoint],verbose = 1)"
   ]
  },
  {
   "cell_type": "code",
   "execution_count": 36,
   "id": "670b9eec",
   "metadata": {},
   "outputs": [
    {
     "name": "stdout",
     "output_type": "stream",
     "text": [
      "Accuracy : 79.04%\n"
     ]
    }
   ],
   "source": [
    "scores = model.evaluate(X_test,y_test_one_hot,verbose = 0)\n",
    "print(\"Accuracy : %.2f%%\" % (scores[1]*100))"
   ]
  },
  {
   "cell_type": "code",
   "execution_count": 37,
   "id": "d0051cb0",
   "metadata": {},
   "outputs": [
    {
     "data": {
      "image/png": "[encoded data removed]",
      "text/plain": [
       "<Figure size 640x480 with 1 Axes>"
      ]
     },
     "metadata": {},
     "output_type": "display_data"
    }
   ],
   "source": [
    "plt.plot(model_details.history['accuracy'])\n",
    "plt.plot(model_details.history['val_accuracy'])\n",
    "plt.title(\"model accuracy\")\n",
    "plt.ylabel('accuracy')\n",
    "plt.xlabel('epoch')\n",
    "plt.legend(['train','test'],loc = 'upper left')\n",
    "plt.show()"
   ]
  },
  {
   "cell_type": "code",
   "execution_count": 38,
   "id": "41816be8",
   "metadata": {},
   "outputs": [
    {
     "data": {
      "image/png": "[encoded data removed]",
      "text/plain": [
       "<Figure size 640x480 with 1 Axes>"
      ]
     },
     "metadata": {},
     "output_type": "display_data"
    }
   ],
   "source": [
    "plt.plot(model_details.history['loss'])\n",
    "plt.plot(model_details.history['val_loss'])\n",
    "plt.title(\"model loss\")\n",
    "plt.ylabel('accuracy')\n",
    "plt.xlabel('epoch')\n",
    "plt.legend(['train','test'],loc = 'upper left')\n",
    "plt.show()"
   ]
  },
  {
   "cell_type": "code",
   "execution_count": null,
   "id": "4f4ab5e7",
   "metadata": {},
   "outputs": [],
   "source": []
  }
 ],
 "metadata": {
  "kernelspec": {
   "display_name": "yolov8",
   "language": "python",
   "name": "yolov8"
  },
  "language_info": {
   "codemirror_mode": {
    "name": "ipython",
    "version": 3
   },
   "file_extension": ".py",
   "mimetype": "text/x-python",
   "name": "python",
   "nbconvert_exporter": "python",
   "pygments_lexer": "ipython3",
   "version": "3.11.4"
  }
 },
 "nbformat": 4,
 "nbformat_minor": 5
}
